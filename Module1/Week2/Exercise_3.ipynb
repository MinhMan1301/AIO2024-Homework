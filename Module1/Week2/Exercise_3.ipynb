{
  "nbformat": 4,
  "nbformat_minor": 0,
  "metadata": {
    "colab": {
      "provenance": []
    },
    "kernelspec": {
      "name": "python3",
      "display_name": "Python 3"
    },
    "language_info": {
      "name": "python"
    }
  },
  "cells": [
    {
      "cell_type": "code",
      "source": [
        "!gdown https://drive.google.com/uc?id=1IBScGdW2xlNsc9v5zSAya548kNgiOrko"
      ],
      "metadata": {
        "colab": {
          "base_uri": "https://localhost:8080/"
        },
        "id": "8IrTUTZbstUm",
        "outputId": "9cd33354-d87b-45f3-9a73-ffaa5dcfd25e"
      },
      "execution_count": 2,
      "outputs": [
        {
          "output_type": "stream",
          "name": "stdout",
          "text": [
            "Downloading...\n",
            "From: https://drive.google.com/uc?id=1IBScGdW2xlNsc9v5zSAya548kNgiOrko\n",
            "To: /content/P1_data.txt\n",
            "\r  0% 0.00/747 [00:00<?, ?B/s]\r100% 747/747 [00:00<00:00, 3.03MB/s]\n"
          ]
        }
      ]
    },
    {
      "cell_type": "code",
      "source": [
        "try:\n",
        "  with open(\"P1_data.txt\",\"r\") as f:\n",
        "    all_words = list(f.read().split())\n",
        "    dictionary = {}\n",
        "    for each in all_words:\n",
        "      value = all_words.count(each)\n",
        "      key = each\n",
        "      dictionary[key] = value\n",
        "  print(dictionary)\n",
        "except FileNotFoundError:\n",
        "  print(\"errors\")"
      ],
      "metadata": {
        "colab": {
          "base_uri": "https://localhost:8080/"
        },
        "id": "qzRkokb1s6c-",
        "outputId": "ad7e380f-a2db-462c-dfd8-962c4de2a44a"
      },
      "execution_count": 9,
      "outputs": [
        {
          "output_type": "stream",
          "name": "stdout",
          "text": [
            "{'He': 1, 'who': 3, 'conquers': 1, 'himself': 1, 'is': 3, 'the': 4, 'mightiest': 1, 'warrior': 1, 'Try': 1, 'not': 1, 'to': 3, 'become': 2, 'a': 6, 'man': 6, 'of': 4, 'success': 2, 'but': 1, 'rather': 1, 'value': 1, 'One': 2, 'with': 4, 'courage': 1, 'makes': 1, 'majority': 1, 'secret': 1, 'in': 4, 'life': 2, 'for': 3, 'be': 1, 'ready': 1, 'his': 2, 'opportunity': 1, 'when': 2, 'it': 2, 'comes': 2, 'The': 1, 'successful': 2, 'will': 2, 'profit': 1, 'from': 1, 'mistakes': 1, 'and': 1, 'try': 1, 'again': 1, 'different': 1, 'way': 1, 'A': 1, 'one': 2, 'can': 3, 'lay': 1, 'firm': 1, 'foundation': 1, 'bricks': 1, 'others': 1, 'have': 1, 'thrown': 1, 'at': 1, 'him': 1, 'Success': 1, 'usually': 1, 'those': 1, 'are': 1, 'too': 1, 'busy': 1, 'looking': 1, 'We': 1, 'cannot': 1, 'solve': 1, 'problems': 1, 'kind': 1, 'thinking': 1, 'we': 2, 'employed': 1, 'came': 1, 'up': 1, 'them': 1, 'Just': 1, 'small': 1, 'positive': 1, 'thought': 1, 'morning': 1, 'change': 1, 'your': 1, 'whole': 1, 'day': 1, 'You': 1, 'get': 2, 'everything': 1, 'you': 2, 'want': 2, 'if': 1, 'just': 1, 'help': 1, 'enough': 1, 'other': 1, 'people': 1, 'what': 1, 'they': 1}\n"
          ]
        }
      ]
    }
  ]
}