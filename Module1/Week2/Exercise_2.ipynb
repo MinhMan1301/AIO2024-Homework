{
 "cells": [
  {
   "cell_type": "code",
   "execution_count": 4,
   "id": "dc3faca4-44e7-498f-b78d-7e6c5fac76b6",
   "metadata": {},
   "outputs": [
    {
     "name": "stdin",
     "output_type": "stream",
     "text": [
      " smaller\n"
     ]
    },
    {
     "name": "stdout",
     "output_type": "stream",
     "text": [
      "{s : 1, m : 1, l : 2, r : 1, e : 1, a : 1, }\n"
     ]
    }
   ],
   "source": [
    "str = input()\n",
    "all = set(str)\n",
    "final_string =\"\"\n",
    "for i in all:\n",
    "    final_string += f\"{i} : {str.count(i)}, \"\n",
    "final_string = \"{\" + final_string +\"}\"\n",
    "print(final_string[:])"
   ]
  },
  {
   "cell_type": "code",
   "execution_count": null,
   "id": "5d54a552-75cf-4f23-9870-f0fc09a37e02",
   "metadata": {},
   "outputs": [],
   "source": []
  }
 ],
 "metadata": {
  "kernelspec": {
   "display_name": "Python 3 (ipykernel)",
   "language": "python",
   "name": "python3"
  },
  "language_info": {
   "codemirror_mode": {
    "name": "ipython",
    "version": 3
   },
   "file_extension": ".py",
   "mimetype": "text/x-python",
   "name": "python",
   "nbconvert_exporter": "python",
   "pygments_lexer": "ipython3",
   "version": "3.11.7"
  }
 },
 "nbformat": 4,
 "nbformat_minor": 5
}
