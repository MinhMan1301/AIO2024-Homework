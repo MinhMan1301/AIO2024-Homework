{
 "cells": [
  {
   "cell_type": "code",
   "execution_count": 19,
   "id": "dc3faca4-44e7-498f-b78d-7e6c5fac76b6",
   "metadata": {},
   "outputs": [
    {
     "name": "stdin",
     "output_type": "stream",
     "text": [
      "  3, 4, 5, 1, -44, 5, 10, 12, 33, 1\n",
      " 3\n"
     ]
    },
    {
     "name": "stdout",
     "output_type": "stream",
     "text": [
      " max = 5\n",
      " max = 5\n",
      " max = 5\n",
      " max = 5\n",
      " max = 10\n",
      " max = 12\n",
      " max = 33\n",
      " max = 33\n"
     ]
    }
   ],
   "source": [
    "list_a = list(map(int, input().split(\", \")))\n",
    "k = int(input())\n",
    "for i in range(len(list_a)-2):\n",
    "    print(f\" max = {max(list_a[i:i+3])}\")"
   ]
  },
  {
   "cell_type": "code",
   "execution_count": null,
   "id": "5d54a552-75cf-4f23-9870-f0fc09a37e02",
   "metadata": {},
   "outputs": [],
   "source": []
  }
 ],
 "metadata": {
  "kernelspec": {
   "display_name": "Python 3 (ipykernel)",
   "language": "python",
   "name": "python3"
  },
  "language_info": {
   "codemirror_mode": {
    "name": "ipython",
    "version": 3
   },
   "file_extension": ".py",
   "mimetype": "text/x-python",
   "name": "python",
   "nbconvert_exporter": "python",
   "pygments_lexer": "ipython3",
   "version": "3.11.7"
  }
 },
 "nbformat": 4,
 "nbformat_minor": 5
}
