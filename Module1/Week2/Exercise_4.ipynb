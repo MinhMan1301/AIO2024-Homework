{
  "nbformat": 4,
  "nbformat_minor": 0,
  "metadata": {
    "colab": {
      "provenance": []
    },
    "kernelspec": {
      "name": "python3",
      "display_name": "Python 3"
    },
    "language_info": {
      "name": "python"
    }
  },
  "cells": [
    {
      "cell_type": "code",
      "source": [
        "def levenshtein_distance(token1,token2):\n",
        "  distances = [[0]*(len(token2)+ 1) for i in range(len(token1)+1)]\n",
        "  for t1 in range(len(token1) + 1):\n",
        "    distances[t1][0] = t1\n",
        "\n",
        "  for t2 in range(len(token2)+1):\n",
        "    distances[0][t2] = t2\n",
        "\n",
        "\n",
        "  a = 0\n",
        "  b = 0\n",
        "  c = 0\n",
        "  for t1 in range(1,len(token1)+ 1):\n",
        "    for t2 in range(1,len(token2)+1):\n",
        "      if token1[t1-1] == token2[t2-1]:\n",
        "        distances[t1][t2] = distances[t1-1][t2-1]\n",
        "      else:\n",
        "        a = distances[t1][t2-1]\n",
        "        b = distances[t1-1][t2]\n",
        "        c = distances[t1-1][t2-1]\n",
        "        if a<= b and a <= c:\n",
        "          distances[t1][t2] = a + 1\n",
        "        elif b <= c:\n",
        "          distances[t1][t2] = b + 1\n",
        "        else:\n",
        "          distances[t1][t2] = c + 1\n",
        "  return distances[len(token1)] [len(token2)]\n",
        "levenshtein_distance(\"hola\",\"hello\")\n",
        "\n"
      ],
      "metadata": {
        "colab": {
          "base_uri": "https://localhost:8080/"
        },
        "id": "bWEWHmo7y9rM",
        "outputId": "2ebcf5cf-f1dc-451f-e067-a3e66e263cd2"
      },
      "execution_count": 6,
      "outputs": [
        {
          "output_type": "execute_result",
          "data": {
            "text/plain": [
              "3"
            ]
          },
          "metadata": {},
          "execution_count": 6
        }
      ]
    },
    {
      "cell_type": "code",
      "source": [],
      "metadata": {
        "id": "xCSjdvRvUQm7"
      },
      "execution_count": null,
      "outputs": []
    }
  ]
}