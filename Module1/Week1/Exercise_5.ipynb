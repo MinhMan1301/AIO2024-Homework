{
 "cells": [
  {
   "cell_type": "code",
   "execution_count": 4,
   "id": "d5279251-6865-4101-b43f-35dc64807360",
   "metadata": {},
   "outputs": [
    {
     "name": "stdin",
     "output_type": "stream",
     "text": [
      " 0.6 0.1 2 1\n"
     ]
    },
    {
     "data": {
      "text/plain": [
       "0.45836890322464546"
      ]
     },
     "execution_count": 4,
     "metadata": {},
     "output_type": "execute_result"
    }
   ],
   "source": [
    "import math\n",
    "#hàm căn bậc\n",
    "def cb(a,b):\n",
    "    c = a**(1/b)\n",
    "    return c\n",
    "    \n",
    "\n",
    "    \n",
    "def md_nre_single_sample():\n",
    "    y,yh,n,b = input().split()\n",
    "    y = float(y)\n",
    "    yh = float(yh)\n",
    "    n = int(n)\n",
    "    p = int(b)\n",
    "    result = ( cb(y,n) - cb(yh,n) ) **p\n",
    "    return result\n",
    "md_nre_single_sample()"
   ]
  },
  {
   "cell_type": "code",
   "execution_count": null,
   "id": "01fd59ad-96fe-4cda-99e1-db1d6628b4ce",
   "metadata": {},
   "outputs": [],
   "source": []
  }
 ],
 "metadata": {
  "kernelspec": {
   "display_name": "Python 3 (ipykernel)",
   "language": "python",
   "name": "python3"
  },
  "language_info": {
   "codemirror_mode": {
    "name": "ipython",
    "version": 3
   },
   "file_extension": ".py",
   "mimetype": "text/x-python",
   "name": "python",
   "nbconvert_exporter": "python",
   "pygments_lexer": "ipython3",
   "version": "3.11.7"
  }
 },
 "nbformat": 4,
 "nbformat_minor": 5
}
