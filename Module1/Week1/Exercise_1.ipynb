{
 "cells": [
  {
   "cell_type": "code",
   "execution_count": 1,
   "id": "96215391-f219-4ee4-997e-e61624cc4f96",
   "metadata": {},
   "outputs": [
    {
     "name": "stdin",
     "output_type": "stream",
     "text": [
      " 2\n"
     ]
    },
    {
     "name": "stdout",
     "output_type": "stream",
     "text": [
      "tp,fp or fn must be int\n"
     ]
    }
   ],
   "source": [
    "def classification_model(tp,fp,fn):\n",
    "    # calculation step\n",
    "        precision = tp/(tp + fp)\n",
    "        recall = tp / (tp + fn)\n",
    "        f1_score = 2 * ((precision * recall)/(precision + recall))\n",
    "\n",
    "    # case = 0\n",
    "        if tp== 0 or fp == 0 or fn == 0:\n",
    "            return \"tp and fp and fn must be greater than zero\"\n",
    "            \n",
    "        else:\n",
    "          return str(precision) + \" \" + \" \" + str(recall) + \" \" + str(f1_score)\n",
    "try: \n",
    "    tp,fp,fn = map(int,input().split())\n",
    "    print(classification_model(tp,fp,fn))\n",
    "    \n",
    "    # exception\n",
    "except ValueError:\n",
    "    print(\"tp,fp or fn must be int\")\n",
    "    \n",
    "except ZeroDivisionError:\n",
    "    print(\"tp and fp and fn must be greater than zero\")"
   ]
  },
  {
   "cell_type": "code",
   "execution_count": null,
   "id": "33c4b86a-95e3-42ca-8ecd-5efbfb98a651",
   "metadata": {},
   "outputs": [],
   "source": []
  }
 ],
 "metadata": {
  "kernelspec": {
   "display_name": "Python 3 (ipykernel)",
   "language": "python",
   "name": "python3"
  },
  "language_info": {
   "codemirror_mode": {
    "name": "ipython",
    "version": 3
   },
   "file_extension": ".py",
   "mimetype": "text/x-python",
   "name": "python",
   "nbconvert_exporter": "python",
   "pygments_lexer": "ipython3",
   "version": "3.11.7"
  }
 },
 "nbformat": 4,
 "nbformat_minor": 5
}
