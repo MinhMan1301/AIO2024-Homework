{
 "cells": [
  {
   "cell_type": "code",
   "execution_count": 30,
   "id": "7c14999f-8eb3-4563-a7ba-17d3a28b5bd0",
   "metadata": {},
   "outputs": [
    {
     "name": "stdin",
     "output_type": "stream",
     "text": [
      " 3.14\n",
      " 10\n"
     ]
    },
    {
     "name": "stdout",
     "output_type": "stream",
     "text": [
      "sin(3.14) = 0.008479830572942215\n",
      "cos(3.14) = -1.0018168365436915\n",
      "sinh(3.14) = 11.522476796941195\n",
      "cosh(3.14) = 11.571548652509899\n"
     ]
    }
   ],
   "source": [
    "import math\n",
    "x = float(input())\n",
    "n = int(input())\n",
    "# factorial calculation\n",
    "def fac(y):\n",
    "    result = 1\n",
    "    for i1 in range(1,y + 1):\n",
    "        result *= i1\n",
    "    return result\n",
    "\n",
    "#formula of sin\n",
    "def for_sin(x,n):\n",
    "    whole_sin = x\n",
    "    for i2 in range(5, n+1 , 4):\n",
    "        whole_sin += (x**i2) / fac(i2)\n",
    "    for i3 in range(3,n + 1,4):\n",
    "        whole_sin -= (x**i3) / fac(i3)\n",
    "    return whole_sin\n",
    "\n",
    "#formula of cos\n",
    "def for_cos(x,n):\n",
    "    whole_cos = 1\n",
    "    for i4 in range(4, n+1 , 4):\n",
    "        whole_cos += (x**i4) / fac(i4)\n",
    "    for i5 in range(2,n + 1,4):\n",
    "        whole_cos -= (x**i5) / fac(i5)\n",
    "    return whole_cos\n",
    "\n",
    "#formula of sinh\n",
    "def for_sinh(x,n):\n",
    "    whole_sinh = x\n",
    "    for i2 in range(5, n+1 , 4):\n",
    "        whole_sinh += (x**i2) / fac(i2)\n",
    "    for i3 in range(3,n + 1,4):\n",
    "        whole_sinh += (x**i3) / fac(i3)\n",
    "    return whole_sinh\n",
    "#formula of cosh\n",
    "def for_cosh(x,n):\n",
    "    whole_cosh = 1\n",
    "    for i4 in range(4, n+1 , 4):\n",
    "        whole_cosh += (x**i4) / fac(i4)\n",
    "    for i5 in range(2,n + 1,4):\n",
    "        whole_cosh += (x**i5) / fac(i5)\n",
    "    return whole_cosh\n",
    "\n",
    "print(f\"sin({x}) = {for_sin(x,n)}\")\n",
    "print(f\"cos({x}) = {for_cos(x,n)}\")\n",
    "print(f\"sinh({x}) = {for_sinh(x,n)}\")\n",
    "print(f\"cosh({x}) = {for_cosh(x,n)}\")\n",
    "\n",
    "    \n",
    "        \n"
   ]
  },
  {
   "cell_type": "code",
   "execution_count": null,
   "id": "2807a298-7ddc-4c36-89fe-2ec8c4134df2",
   "metadata": {},
   "outputs": [],
   "source": []
  }
 ],
 "metadata": {
  "kernelspec": {
   "display_name": "Python 3 (ipykernel)",
   "language": "python",
   "name": "python3"
  },
  "language_info": {
   "codemirror_mode": {
    "name": "ipython",
    "version": 3
   },
   "file_extension": ".py",
   "mimetype": "text/x-python",
   "name": "python",
   "nbconvert_exporter": "python",
   "pygments_lexer": "ipython3",
   "version": "3.11.7"
  }
 },
 "nbformat": 4,
 "nbformat_minor": 5
}
