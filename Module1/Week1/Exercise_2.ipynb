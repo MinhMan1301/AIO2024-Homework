{
 "cells": [
  {
   "cell_type": "code",
   "execution_count": 3,
   "id": "96215391-f219-4ee4-997e-e61624cc4f96",
   "metadata": {},
   "outputs": [
    {
     "name": "stdin",
     "output_type": "stream",
     "text": [
      " 3\n",
      " relu\n"
     ]
    },
    {
     "name": "stdout",
     "output_type": "stream",
     "text": [
      " relu: f(3) = 3\n"
     ]
    }
   ],
   "source": [
    "import math\n",
    "try:\n",
    "    x = input()\n",
    "    x = int(x)\n",
    "    if isinstance(x,int):\n",
    "        activation_function = input()\n",
    "        if activation_function == \"sigmoid\":\n",
    "            print(f\" sigmoid: f({x}) = {1/(1 + math.exp(-x))}\")\n",
    "            \n",
    "            # division of cases\n",
    "        elif activation_function == \"relu\":\n",
    "            if x <= 0:\n",
    "                print(f\" relu: f({x}) = {0}\")\n",
    "            else:\n",
    "                print(f\" relu: f({x}) = {x}\")\n",
    "        elif activation_function == \"elu\":\n",
    "            alpha = int(input())\n",
    "            if x <= 0:\n",
    "                print(f\" elu: f({x}) = {alpha * ( math.exp(x) - 1 )} \")\n",
    "            else:\n",
    "                print(f\" elu: f({x}) = {x}\")\n",
    "except ValueError:\n",
    "    print(\"x must be a number\")\n",
    "        \n",
    "    \n",
    "#(sigmoid, relu, elu)"
   ]
  },
  {
   "cell_type": "code",
   "execution_count": null,
   "id": "33c4b86a-95e3-42ca-8ecd-5efbfb98a651",
   "metadata": {},
   "outputs": [],
   "source": []
  }
 ],
 "metadata": {
  "kernelspec": {
   "display_name": "Python 3 (ipykernel)",
   "language": "python",
   "name": "python3"
  },
  "language_info": {
   "codemirror_mode": {
    "name": "ipython",
    "version": 3
   },
   "file_extension": ".py",
   "mimetype": "text/x-python",
   "name": "python",
   "nbconvert_exporter": "python",
   "pygments_lexer": "ipython3",
   "version": "3.11.7"
  }
 },
 "nbformat": 4,
 "nbformat_minor": 5
}
