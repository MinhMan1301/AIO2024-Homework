{
 "cells": [
  {
   "cell_type": "code",
   "execution_count": 6,
   "id": "96215391-f219-4ee4-997e-e61624cc4f96",
   "metadata": {},
   "outputs": [
    {
     "name": "stdin",
     "output_type": "stream",
     "text": [
      " 4\n",
      " MAE\n"
     ]
    },
    {
     "data": {
      "text/plain": [
       "2.812872568875169"
      ]
     },
     "execution_count": 6,
     "metadata": {},
     "output_type": "execute_result"
    }
   ],
   "source": [
    "import random\n",
    "import math\n",
    "def regression_loss_function():\n",
    "    \n",
    "    #calculation steps\n",
    "    result = 0\n",
    "    n = input()\n",
    "    try:\n",
    "        n = int(n)\n",
    "    except ValueError:\n",
    "        return \"number of samples must be an integer number\"\n",
    "    loss_name = input()\n",
    "    predict = random.uniform(1,10)\n",
    "    target = random.uniform(1,10)\n",
    "    match loss_name:\n",
    "        case \"MAE\":\n",
    "            for i1 in range(1,n + 1):\n",
    "                result += (1/n) * abs(predict - target)\n",
    "        case \"MSE\":\n",
    "            for i2 in range(1,n + 1):\n",
    "                    result += (1/n) * ( (predict - target)**2 )\n",
    "        case \"RMSE\":\n",
    "            for i3 in range(1,n + 1):\n",
    "                result += math.sqrt( (1/n) * ( (predict - target)**2 ) )\n",
    "    return result\n",
    "\n",
    "\n",
    "regression_loss_function()\n",
    "\n",
    "        \n",
    "\n",
    "#MAE và MSE và RMSE (loss_name)"
   ]
  },
  {
   "cell_type": "code",
   "execution_count": null,
   "id": "2f0d1d0c-a8a1-4a0c-8489-cc61d08111a5",
   "metadata": {},
   "outputs": [],
   "source": []
  }
 ],
 "metadata": {
  "kernelspec": {
   "display_name": "Python 3 (ipykernel)",
   "language": "python",
   "name": "python3"
  },
  "language_info": {
   "codemirror_mode": {
    "name": "ipython",
    "version": 3
   },
   "file_extension": ".py",
   "mimetype": "text/x-python",
   "name": "python",
   "nbconvert_exporter": "python",
   "pygments_lexer": "ipython3",
   "version": "3.11.7"
  }
 },
 "nbformat": 4,
 "nbformat_minor": 5
}
